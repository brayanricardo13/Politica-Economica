{
  "nbformat": 4,
  "nbformat_minor": 0,
  "metadata": {
    "colab": {
      "name": "VAR Macroeconomía",
      "provenance": [],
      "collapsed_sections": [],
      "authorship_tag": "ABX9TyOtowdilR1QEHbZ2klhieaU",
      "include_colab_link": true
    },
    "kernelspec": {
      "name": "python3",
      "display_name": "Python 3"
    },
    "language_info": {
      "name": "python"
    }
  },
  "cells": [
    {
      "cell_type": "markdown",
      "metadata": {
        "id": "view-in-github",
        "colab_type": "text"
      },
      "source": [
        "<a href=\"https://colab.research.google.com/github/brayanricardo13/Politica-Economica/blob/main/VAR_Macroeconom%C3%ADa.ipynb\" target=\"_parent\"><img src=\"https://colab.research.google.com/assets/colab-badge.svg\" alt=\"Open In Colab\"/></a>"
      ]
    },
    {
      "cell_type": "code",
      "execution_count": 1,
      "metadata": {
        "id": "E0GfspVcaHfZ"
      },
      "outputs": [],
      "source": [
        "%load_ext rpy2.ipython"
      ]
    },
    {
      "cell_type": "code",
      "source": [
        "%%R\n",
        "install.packages(\"quantmod\")\n",
        "library(\"quantmod\")"
      ],
      "metadata": {
        "id": "4jiaowfUakuV"
      },
      "execution_count": null,
      "outputs": []
    },
    {
      "cell_type": "code",
      "source": [
        "%%R\n",
        "getSymbols(c(\"GDPC1\",\"PCECC96\",\"GPDIC1\",\"GCEC1\",\"EXPGSC1\",\"IMPGSC1\",\"CPALTT01USQ659N\",\"LRUN64TTUSQ156N\",\"A191RL1Q225SBEA\"),src=\"FRED\")"
      ],
      "metadata": {
        "id": "NeSKYVGVanSr"
      },
      "execution_count": null,
      "outputs": []
    },
    {
      "cell_type": "code",
      "source": [
        "%%R\n",
        "chartSeries(GDPC1)"
      ],
      "metadata": {
        "id": "L1MohxZOawf6"
      },
      "execution_count": null,
      "outputs": []
    },
    {
      "cell_type": "code",
      "source": [
        "%%R\n",
        "chartSeries(PCECC96, TA=NULL)"
      ],
      "metadata": {
        "id": "uSiISuoba_Mv"
      },
      "execution_count": null,
      "outputs": []
    },
    {
      "cell_type": "code",
      "source": [
        "%%R\n",
        "chartSeries(GPDIC1, TA,NULL)"
      ],
      "metadata": {
        "id": "toCt8XfNbBFD"
      },
      "execution_count": null,
      "outputs": []
    },
    {
      "cell_type": "code",
      "source": [
        "%%R\n",
        "chartSeries(GCEC1, TA=,NULL)"
      ],
      "metadata": {
        "id": "TkajUkcTbO-1"
      },
      "execution_count": null,
      "outputs": []
    },
    {
      "cell_type": "code",
      "source": [
        "%%R\n",
        "chartSeries(CPALTT01USQ659N, TA=NULL)"
      ],
      "metadata": {
        "id": "eZytmPQ2bPeL"
      },
      "execution_count": null,
      "outputs": []
    },
    {
      "cell_type": "code",
      "source": [
        "%%R\n",
        "chartSeries(LRUN64TTUSQ156N, TA=NULL)"
      ],
      "metadata": {
        "id": "rmOO8dtQbPoH"
      },
      "execution_count": null,
      "outputs": []
    },
    {
      "cell_type": "code",
      "source": [
        "%%R\n",
        "#Crea la matríz X con el comando cbind\n",
        "X = cbind(GDPC1,PCECC96,GPDIC1,GCEC1,EXPGSC1,IMPGSC1,LRUN64TTUSQ156N,A191RL1Q225SBEA)\n",
        "#Producto Kroneker(Multiplicación de matrices), para identificar los Missing Value\n",
        "X = na.omit(X)"
      ],
      "metadata": {
        "id": "WmM3ZM3mbPxA"
      },
      "execution_count": 16,
      "outputs": []
    },
    {
      "cell_type": "code",
      "source": [
        "%%R\n",
        "df = data.frame(X)\n",
        "#Asignamos nombres con el comando colnames\n",
        "colnames(df) = c(\"GDP\",\"C\",\"I\",\"G\",\"X\",\"M\",\"Inflation\",\"Unemployment\")\n",
        "#Coaccionar datos de la matriz\n",
        "date = as.Date(index(X))\n",
        "#Calculamos el número de columnas\n",
        "k = ncol(df)\n",
        "#Calculamos la primera diferencia de las series\n",
        "df1 = df[-1,]\n",
        "for (i in 1:6) {\n",
        "  df1[,i] = diff(log(df[,i]))\n",
        "}\n",
        "for (i in 1:k) {\n",
        "  df1[,i] = scale(df1[,i],TRUE,TRUE)\n",
        "}\n",
        "\n",
        "df = df1\n",
        "date = date[-1]"
      ],
      "metadata": {
        "id": "E5ybOn8QbP49"
      },
      "execution_count": null,
      "outputs": []
    },
    {
      "cell_type": "code",
      "source": [
        "%%R\n",
        "#Calculo del VAR\n",
        "install.packages(\"vars\")\n",
        "library(\"vars\")\n",
        "var1 = VAR(df,p=1)\n",
        "summary(var1)\n",
        "plot(irf(var1, ortho=T,n.ahead=20,cumulative=F,runs=300,ci=0.9))\n",
        "plot(irf(var1, ortho=T,n.ahead=20,cumulative=T,runs=300,ci=0.9))"
      ],
      "metadata": {
        "id": "3G1V9ZSub8zw"
      },
      "execution_count": null,
      "outputs": []
    }
  ]
}