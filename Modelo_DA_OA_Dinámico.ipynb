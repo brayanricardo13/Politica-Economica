{
  "nbformat": 4,
  "nbformat_minor": 0,
  "metadata": {
    "colab": {
      "name": "Modelo DA-OA Dinámico",
      "provenance": [],
      "collapsed_sections": [],
      "include_colab_link": true
    },
    "kernelspec": {
      "name": "python3",
      "display_name": "Python 3"
    },
    "language_info": {
      "name": "python"
    }
  },
  "cells": [
    {
      "cell_type": "markdown",
      "metadata": {
        "id": "view-in-github",
        "colab_type": "text"
      },
      "source": [
        "<a href=\"https://colab.research.google.com/github/brayanricardo13/Politica-Economica/blob/main/Modelo_DA_OA_Din%C3%A1mico.ipynb\" target=\"_parent\"><img src=\"https://colab.research.google.com/assets/colab-badge.svg\" alt=\"Open In Colab\"/></a>"
      ]
    },
    {
      "cell_type": "markdown",
      "source": [
        "**Demanda de Bienes y Servicios**:\n",
        "\\begin{equation}\n",
        "Y_t = \\bar{Y_t}- α(rt − ρ) + ε_t\n",
        "\\end{equation}\n"
      ],
      "metadata": {
        "id": "Kb8YcS7rYCXo"
      }
    },
    {
      "cell_type": "markdown",
      "source": [
        "**El tipo de Interes real: La Ecuacion de Fisher**:\n",
        "\\begin{equation}\n",
        "r_t = i_t − E(π_t+1)\n",
        "\\end{equation}\n",
        "\n",
        "\n"
      ],
      "metadata": {
        "id": "eFXxd8CfXt-S"
      }
    },
    {
      "cell_type": "markdown",
      "source": [
        "**La Inflacion: La Curva de Phillips**:\n",
        "\\begin{equation}\n",
        "π_t = E(π_t−1) + φ(Y_t − \\bar{Y_t}) + θ_t\n",
        "\\end{equation}"
      ],
      "metadata": {
        "id": "ZqlGG6nFZtrw"
      }
    },
    {
      "cell_type": "markdown",
      "source": [
        "**Inflacion esperada: expectativas adaptativas**:\n",
        "\\begin{equation}\n",
        "E(π_t+1) = π_t\n",
        "\\end{equation}"
      ],
      "metadata": {
        "id": "QnbCWFNpaVD4"
      }
    },
    {
      "cell_type": "markdown",
      "source": [
        "**Tasa de interes nominal:La regla de politica monetaria**:\n",
        "\\begin{equation}\n",
        "i_t = π_t + ρ + θπ(π_t − π\n",
        "^∗\n",
        "_t\n",
        ") + θ_Y (Y_t − \\bar{Y_t})\n",
        "\\end{equation}"
      ],
      "metadata": {
        "id": "P5UIVkhYamML"
      }
    },
    {
      "cell_type": "code",
      "source": [
        "# Parametros \n",
        "InflacionOBJECTIVO = 2 \n",
        "SensibilidadDemanda = 1\n",
        "Interesneutral = 2\n",
        "Pesorelativo = 0.25\n",
        "SencibilidadBC = 0.5 \n",
        "SencibilidadGAP = 0.5\n",
        "PIBpotencial = 100"
      ],
      "metadata": {
        "id": "pkG1Eh-_bMZk"
      },
      "execution_count": 14,
      "outputs": []
    },
    {
      "cell_type": "code",
      "source": [
        "# Choques \n",
        "Epsilon = 0\n",
        "Upsilon = 0 \n",
        "Espectativadeinflacion = 2"
      ],
      "metadata": {
        "id": "SvwZDbDjevgI"
      },
      "execution_count": 15,
      "outputs": []
    },
    {
      "cell_type": "code",
      "source": [
        "Inflacion = (((1+(SensibilidadDemanda*SencibilidadGAP))/(1+(SensibilidadDemanda*SencibilidadGAP)+(SensibilidadDemanda*SencibilidadBC*Pesorelativo)))*Espectativadeinflacion)+(((SensibilidadDemanda*SencibilidadBC*Pesorelativo)/(1+(SensibilidadDemanda*SencibilidadGAP)+(SensibilidadDemanda*SencibilidadBC*Pesorelativo)))*InflacionOBJECTIVO )+((1/(1+(SensibilidadDemanda*SencibilidadGAP)+(SensibilidadDemanda*SencibilidadBC*Pesorelativo)))*((Pesorelativo*Epsilon  )+((1+(SensibilidadDemanda*SencibilidadGAP))*Upsilon)))"
      ],
      "metadata": {
        "id": "q3n_3lXQic2-"
      },
      "execution_count": 16,
      "outputs": []
    },
    {
      "cell_type": "code",
      "source": [
        "Inflacion"
      ],
      "metadata": {
        "id": "2rcL1e8bk8Zh",
        "colab": {
          "base_uri": "https://localhost:8080/"
        },
        "outputId": "74f46eb6-b4af-4759-cc02-d521c7f2bc49"
      },
      "execution_count": 17,
      "outputs": [
        {
          "output_type": "execute_result",
          "data": {
            "text/plain": [
              "2.0"
            ]
          },
          "metadata": {},
          "execution_count": 17
        }
      ]
    },
    {
      "cell_type": "code",
      "source": [
        "Espectativadeinflacion = 2"
      ],
      "metadata": {
        "id": "ZSY6M6XJilHY"
      },
      "execution_count": 18,
      "outputs": []
    },
    {
      "cell_type": "code",
      "source": [
        "Producto = PIBpotencial-(((SensibilidadDemanda*SencibilidadBC)/(1+(SensibilidadDemanda*SencibilidadGAP)))*(Inflacion-InflacionOBJECTIVO ))+((1/(1+(SensibilidadDemanda*SencibilidadGAP)))*Epsilon  )"
      ],
      "metadata": {
        "id": "uOiaCkkRiyFD"
      },
      "execution_count": 19,
      "outputs": []
    },
    {
      "cell_type": "code",
      "source": [
        "Producto"
      ],
      "metadata": {
        "id": "uR8yqwkek-gn",
        "colab": {
          "base_uri": "https://localhost:8080/"
        },
        "outputId": "758ab132-8f7d-4ed3-b242-8712bae070b0"
      },
      "execution_count": 20,
      "outputs": [
        {
          "output_type": "execute_result",
          "data": {
            "text/plain": [
              "100.0"
            ]
          },
          "metadata": {},
          "execution_count": 20
        }
      ]
    },
    {
      "cell_type": "code",
      "source": [
        "InteresNominal = Inflacion+Interesneutral+(SencibilidadBC*(Inflacion-InflacionOBJECTIVO ))+(SencibilidadGAP*(Producto-PIBpotencial))"
      ],
      "metadata": {
        "id": "Er2Mfp8PjPDH"
      },
      "execution_count": 21,
      "outputs": []
    },
    {
      "cell_type": "code",
      "source": [
        "InteresNominal "
      ],
      "metadata": {
        "id": "7FCGlaQ6lB8C",
        "colab": {
          "base_uri": "https://localhost:8080/"
        },
        "outputId": "255d838a-bc3d-4c6e-a22e-0c9c463fe860"
      },
      "execution_count": 22,
      "outputs": [
        {
          "output_type": "execute_result",
          "data": {
            "text/plain": [
              "4.0"
            ]
          },
          "metadata": {},
          "execution_count": 22
        }
      ]
    },
    {
      "cell_type": "code",
      "source": [
        "Interesreal = InteresNominal - Inflacion "
      ],
      "metadata": {
        "id": "8-zriDHLjFV9"
      },
      "execution_count": 23,
      "outputs": []
    },
    {
      "cell_type": "code",
      "source": [
        "Interesreal"
      ],
      "metadata": {
        "id": "rKdvmTzklChK",
        "colab": {
          "base_uri": "https://localhost:8080/"
        },
        "outputId": "7efdc851-615b-4fef-e549-c570728b4c39"
      },
      "execution_count": 24,
      "outputs": [
        {
          "output_type": "execute_result",
          "data": {
            "text/plain": [
              "2.0"
            ]
          },
          "metadata": {},
          "execution_count": 24
        }
      ]
    }
  ]
}